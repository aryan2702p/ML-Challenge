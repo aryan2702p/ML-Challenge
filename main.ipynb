{
 "cells": [
  {
   "cell_type": "code",
   "execution_count": 2,
   "metadata": {},
   "outputs": [],
   "source": [
    "import pandas as pd\n",
    "import numpy as np\n",
    "import tensorflow as tf\n",
    "from tensorflow.keras.preprocessing.text import Tokenizer\n",
    "from tensorflow.keras.preprocessing.sequence import pad_sequences\n",
    "from sklearn.model_selection import train_test_split\n",
    "from sklearn.preprocessing import LabelEncoder\n",
    "from tensorflow.keras.models import Sequential\n",
    "from tensorflow.keras.layers import Embedding, Conv1D, LSTM, Dense, Dropout, GlobalMaxPooling1D\n",
    "from tensorflow.keras.optimizers import Adam\n",
    "from tensorflow.keras.callbacks import EarlyStopping"
   ]
  },
  {
   "cell_type": "code",
   "execution_count": 10,
   "metadata": {},
   "outputs": [
    {
     "name": "stdout",
     "output_type": "stream",
     "text": [
      "Failed to read with encoding utf-8: 'utf-8' codec can't decode bytes in position 1383-1384: invalid continuation byte\n",
      "Failed to read with encoding utf-16: UTF-16 stream does not start with BOM\n",
      "Successfully read with encoding: latin1\n"
     ]
    }
   ],
   "source": [
    "encodings = ['utf-8', 'utf-16', 'latin1', 'ISO-8859-1']\n",
    "for encoding in encodings:\n",
    "    try:\n",
    "        train_df = pd.read_csv('dataset/train.csv', encoding=encoding)\n",
    "        test_df = pd.read_csv('dataset/test.csv', encoding=encoding)\n",
    "        print(f\"Successfully read with encoding: {encoding}\")\n",
    "        break  # Exit the loop if successful\n",
    "    except Exception as e:\n",
    "        print(f\"Failed to read with encoding {encoding}: {e}\")\n",
    "\n",
    "# Now proceed with your data\n",
    "train_texts = train_df['text']\n",
    "train_labels = train_df['target']\n"
   ]
  },
  {
   "cell_type": "code",
   "execution_count": 11,
   "metadata": {},
   "outputs": [
    {
     "name": "stdout",
     "output_type": "stream",
     "text": [
      "0    python courses python courses, python exercise...\n",
      "1    the learning point open digital education. a r...\n",
      "Name: text, dtype: object\n"
     ]
    }
   ],
   "source": [
    "print(train_texts.head(2))"
   ]
  },
  {
   "cell_type": "code",
   "execution_count": 12,
   "metadata": {},
   "outputs": [
    {
     "name": "stdout",
     "output_type": "stream",
     "text": [
      "Max Words (Vocab Size): 1552949\n"
     ]
    }
   ],
   "source": [
    "## Do not run this cell ##\n",
    "tokenizer = Tokenizer()\n",
    "tokenizer.fit_on_texts(train_texts)\n",
    "\n",
    "# Total number of unique words in the vocabulary\n",
    "word_index = tokenizer.word_index\n",
    "max_words = len(word_index)\n",
    "\n",
    "print(f\"Max Words (Vocab Size): {max_words}\")\n",
    "\n",
    "\n"
   ]
  },
  {
   "cell_type": "code",
   "execution_count": 15,
   "metadata": {},
   "outputs": [
    {
     "name": "stdout",
     "output_type": "stream",
     "text": [
      "500\n"
     ]
    }
   ],
   "source": [
    "max_words_=max(train_df['Word Count'])\n",
    "print(max_words_)"
   ]
  },
  {
   "cell_type": "code",
   "execution_count": null,
   "metadata": {},
   "outputs": [],
   "source": [
    "##  Do not run this cell ##\n",
    "sequences = tokenizer.texts_to_sequences(train_texts)\n",
    "sequence_lengths = [len(seq) for seq in sequences]\n",
    "\n",
    "\n",
    "avg_len = np.mean(sequence_lengths)\n",
    "max_len = np.percentile(sequence_lengths, 95) \n",
    "\n",
    "print(f\"Average Length of Sequences: {avg_len}\")\n",
    "print(f\"Max Length (95th percentile): {max_len}\")\n",
    "\n",
    "num_classes = len(set(train_labels))\n",
    "\n",
    "print(f\"Number of Classes: {num_classes}\")"
   ]
  }
 ],
 "metadata": {
  "kernelspec": {
   "display_name": "myprojectenv",
   "language": "python",
   "name": "python3"
  },
  "language_info": {
   "codemirror_mode": {
    "name": "ipython",
    "version": 3
   },
   "file_extension": ".py",
   "mimetype": "text/x-python",
   "name": "python",
   "nbconvert_exporter": "python",
   "pygments_lexer": "ipython3",
   "version": "3.12.4"
  }
 },
 "nbformat": 4,
 "nbformat_minor": 2
}
