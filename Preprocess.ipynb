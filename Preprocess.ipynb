{
 "cells": [
  {
   "cell_type": "code",
   "execution_count": 14,
   "metadata": {},
   "outputs": [
    {
     "name": "stderr",
     "output_type": "stream",
     "text": [
      "[nltk_data] Downloading package punkt_tab to\n",
      "[nltk_data]     C:\\Users\\acer\\AppData\\Roaming\\nltk_data...\n",
      "[nltk_data]   Unzipping tokenizers\\punkt_tab.zip.\n",
      "[nltk_data] Downloading package wordnet to\n",
      "[nltk_data]     C:\\Users\\acer\\AppData\\Roaming\\nltk_data...\n",
      "[nltk_data]   Package wordnet is already up-to-date!\n"
     ]
    },
    {
     "data": {
      "text/plain": [
       "True"
      ]
     },
     "execution_count": 14,
     "metadata": {},
     "output_type": "execute_result"
    }
   ],
   "source": [
    "import pandas as pd\n",
    "import re\n",
    "import nltk\n",
    "from nltk.stem import PorterStemmer, WordNetLemmatizer\n",
    "\n",
    "# Download NLTK resources (only need to do this once)\n",
    "nltk.download('punkt_tab')\n",
    "nltk.download('wordnet')\n",
    "\n",
    "# Assuming train_texts is your DataFrame with a 'text' column\n"
   ]
  },
  {
   "cell_type": "code",
   "execution_count": 3,
   "metadata": {},
   "outputs": [
    {
     "name": "stdout",
     "output_type": "stream",
     "text": [
      "Failed to read with encoding utf-8: 'utf-8' codec can't decode bytes in position 1383-1384: invalid continuation byte\n",
      "Failed to read with encoding utf-16: UTF-16 stream does not start with BOM\n",
      "Successfully read with encoding: latin1\n"
     ]
    }
   ],
   "source": [
    "encodings = ['utf-8', 'utf-16', 'latin1', 'ISO-8859-1']\n",
    "for encoding in encodings:\n",
    "    try:\n",
    "        train_texts = pd.read_csv('dataset/train.csv', encoding=encoding)\n",
    "        \n",
    "        print(f\"Successfully read with encoding: {encoding}\")\n",
    "        break  # Exit the loop if successful\n",
    "    except Exception as e:\n",
    "        print(f\"Failed to read with encoding {encoding}: {e}\")\n",
    "\n",
    "\n"
   ]
  },
  {
   "cell_type": "code",
   "execution_count": 19,
   "metadata": {},
   "outputs": [],
   "source": [
    "#train_texts= pd.read_csv('dataset/train.csv')\n",
    "\n",
    "stemmer = PorterStemmer()\n",
    "lemmatizer = WordNetLemmatizer()\n",
    "\n",
    "def preprocess_text(text, use_stemming=True):\n",
    "    # Remove punctuation\n",
    "    text = re.sub(r'[^\\w\\s]', '', text)\n",
    "    \n",
    "    # Remove extra spaces\n",
    "    text = re.sub(r'\\s+', ' ', text).strip()\n",
    "    \n",
    "    # Normalize to lowercase\n",
    "    text = text.lower()\n",
    "    \n",
    "    # Tokenization\n",
    "    words = nltk.word_tokenize(text)\n",
    "    \n",
    "    # Stemming or Lemmatization\n",
    "    if use_stemming:\n",
    "        words = [stemmer.stem(word) for word in words]\n",
    "    else:\n",
    "        words = [lemmatizer.lemmatize(word) for word in words]\n",
    "    \n",
    "    # Join words back into a single string\n",
    "    return ' '.join(words)\n",
    "\n",
    "# Apply preprocessing to the 'text' column\n",
    "train_texts['processed_text'] = train_texts['text'].apply(preprocess_text)\n",
    "\n",
    "# Display the original and processed text\n",
    "print(train_texts[['text', 'processed_text']])\n",
    "\n",
    "\n"
   ]
  },
  {
   "cell_type": "code",
   "execution_count": 20,
   "metadata": {},
   "outputs": [],
   "source": [
    "# Apply preprocessing to the 'text' column\n",
    "train_texts['processed_text'] = train_texts['text'].apply(preprocess_text)\n",
    "\n",
    "# Display the original and processed text\n",
    "# print(train_texts[['text', 'processed_text']])"
   ]
  },
  {
   "cell_type": "code",
   "execution_count": 21,
   "metadata": {},
   "outputs": [
    {
     "name": "stdout",
     "output_type": "stream",
     "text": [
      "                                                text              target  \\\n",
      "0  python courses python courses, python exercise...  academic interests   \n",
      "\n",
      "   Word Count processed_text  \n",
      "0         125           None  \n"
     ]
    }
   ],
   "source": [
    "print(train_texts.head(1))"
   ]
  }
 ],
 "metadata": {
  "kernelspec": {
   "display_name": "myprojectenv",
   "language": "python",
   "name": "python3"
  },
  "language_info": {
   "codemirror_mode": {
    "name": "ipython",
    "version": 3
   },
   "file_extension": ".py",
   "mimetype": "text/x-python",
   "name": "python",
   "nbconvert_exporter": "python",
   "pygments_lexer": "ipython3",
   "version": "3.12.4"
  }
 },
 "nbformat": 4,
 "nbformat_minor": 2
}
